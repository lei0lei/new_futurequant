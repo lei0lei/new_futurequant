{
 "cells": [
  {
   "cell_type": "code",
   "execution_count": 2,
   "metadata": {},
   "outputs": [],
   "source": [
    "import TT\n",
    "from TT import MACD,RSI,KDJ\n",
    "import pandas as pd\n",
    "from datetime import datetime, timedelta, date\n",
    "import time, os\n",
    "import argparse\n",
    "import glob\n",
    "\n",
    "import sys\n",
    "sys.path.insert(1, '..')\n",
    "\n",
    "import plotly\n",
    "import plotly.express as px\n",
    "import plotly.graph_objects as go\n"
   ]
  },
  {
   "cell_type": "code",
   "execution_count": null,
   "metadata": {},
   "outputs": [],
   "source": [
    "\n",
    "def generate_dates(start_date, end_date):\n",
    "\t\"\"\"Generate a list of dates between start_date and end_date (inclusive).\"\"\"\n",
    "\tstart = datetime.strptime(start_date, '%Y-%m-%d') - timedelta(days=1)\n",
    "\tend = datetime.strptime(end_date, '%Y-%m-%d')\n",
    "\n",
    "\t# print(start,end)\n",
    "\t\n",
    "\tdate_list = []\n",
    "\tdelta = timedelta(days=1)\n",
    "\twhile start <= end:\n",
    "\t\tdate_list.append(start.strftime('%Y-%m-%d'))\n",
    "\t\tstart += delta\n",
    "\treturn date_list"
   ]
  },
  {
   "cell_type": "code",
   "execution_count": null,
   "metadata": {},
   "outputs": [],
   "source": [
    "def get_previous_date(date_string, period=20, date_format='%Y-%m-%d'):\n",
    "\t\"\"\"Given a string date, return the date of given days before.\"\"\"\n",
    "\toriginal_date = datetime.strptime(date_string, date_format)\n",
    "\tprevious_date = original_date - timedelta(days=period)\n",
    "\treturn previous_date.strftime(date_format)\n",
    "\n",
    "def is_valid_date(date_string, date_format='%Y-%m-%d'):\n",
    "\t\"\"\"Check if the given string is a valid date.\"\"\"\n",
    "\ttry:\n",
    "\t\tdatetime.strptime(date_string, date_format)\n",
    "\t\treturn True\n",
    "\texcept ValueError:\n",
    "\t\treturn False"
   ]
  },
  {
   "cell_type": "code",
   "execution_count": null,
   "metadata": {},
   "outputs": [],
   "source": [
    "def check_cross(line1, line2, m = 5):\n",
    "\tif len(line1) < m or len(line2) < m:\n",
    "\t\traise ValueError(f\"Both line1 and line2 should have at least {m} values.\")\n",
    "\n",
    "\tfor i in range(len(line1) - m + 1):\n",
    "\t\tsubset_1 = line1[i:i+m]\n",
    "\t\tsubset_2 = line2[i:i+m]\n",
    "\n",
    "\t\t# 查找初始金叉\n",
    "\t\tif subset_1[0] < subset_2[0] and subset_1[1] > subset_2[1]:\n",
    "\t\t\ttrend = \"gold\"\n",
    "\t\t\t# 检查是否K始终大于D\n",
    "\t\t\tif all(k > d for k, d in zip(subset_1[1:], subset_2[1:])):\n",
    "\t\t\t\treturn i+1, trend\n",
    "\n",
    "\t\t# 查找初始死叉\n",
    "\t\telif subset_1[0] > subset_2[0] and subset_1[1] < subset_2[1]:\n",
    "\t\t\ttrend = \"dead\"\n",
    "\t\t\t# 检查是否K始终小于D\n",
    "\t\t\tif all(k < d for k, d in zip(subset_1[1:], subset_2[1:])):\n",
    "\t\t\t\treturn i+1, trend\n",
    "\n",
    "\treturn None, None\n"
   ]
  },
  {
   "cell_type": "code",
   "execution_count": null,
   "metadata": {},
   "outputs": [],
   "source": [
    "def check_upper_ma(prices, realtime_prices, period, if_minute = False):\n",
    "\tunique_codes = prices['future_code'].unique()\n",
    "\tnewest_prices = realtime_prices[[\"future_code\", \"newest_price\"]]\n",
    "\tma_selected_code = []\n",
    "\tfor code in unique_codes:\n",
    "\t\tsub_df = prices[prices['future_code'] == code]\n",
    "\t\tif if_minute:\n",
    "\t\t\tclose_prices = sub_df[\"newest_price\"]\n",
    "\t\telse:\n",
    "\t\t\tclose_prices = sub_df[\"close\"]\n",
    "\t\t# print(close_prices)\n",
    "\t\tma_value = TT.MA(close_prices, period)[-1]\n",
    "\n",
    "\t\ttemp = newest_prices.loc[newest_prices[\"future_code\"] == code,\"newest_price\"]\n",
    "\t\tif len(temp) >0:\n",
    "\t\t\tif ma_value < temp.item():\n",
    "\t\t\t\tma_selected_code.append(code)\t\n",
    "\n",
    "\treturn ma_selected_code\n"
   ]
  }
 ],
 "metadata": {
  "kernelspec": {
   "display_name": ".venv",
   "language": "python",
   "name": "python3"
  },
  "language_info": {
   "codemirror_mode": {
    "name": "ipython",
    "version": 3
   },
   "file_extension": ".py",
   "mimetype": "text/x-python",
   "name": "python",
   "nbconvert_exporter": "python",
   "pygments_lexer": "ipython3",
   "version": "3.8.10"
  },
  "orig_nbformat": 4
 },
 "nbformat": 4,
 "nbformat_minor": 2
}
