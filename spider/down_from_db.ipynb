{
 "cells": [
  {
   "cell_type": "code",
   "execution_count": 1,
   "metadata": {},
   "outputs": [],
   "source": [
    "import pandas as pd\n",
    "import pymongo\n",
    "import datetime\n",
    "import csv\n",
    "\n",
    "import sys\n",
    "sys.path.insert(1, '..')\n",
    "from utils.ex_dir import file_exists,make_csv_file\n",
    "from sina_utils import *\n",
    "import tqdm"
   ]
  },
  {
   "cell_type": "code",
   "execution_count": 13,
   "metadata": {},
   "outputs": [],
   "source": [
    "date = [datetime.date(2023,9,11)+datetime.timedelta(days=i) for i in [4,7,8,9,10,11,14,15,16,17,26,27,28,29]]"
   ]
  },
  {
   "cell_type": "code",
   "execution_count": 14,
   "metadata": {},
   "outputs": [],
   "source": [
    "DCE_DB_NAME = \"DCEdb\"\n",
    "DCE_FUTURE_PRICE_COLLECTION_NAME = \"DCEFuturePriceDb\"\n",
    "COSMOS_CONNECTION_STRING = 'mongodb://lei:WMNi1Hh4vyOVG4V3OLcyaoZwOOl7YVHUUiKFeuGKbiS9rytxi2qd2VpnekCYj8IVrN6AFVHvLBUxACDb7vuFnA==@lei.mongo.cosmos.azure.com:10255/?ssl=true&replicaSet=globaldb&retrywrites=false&maxIdleTimeMS=120000&appName=@lei@'\n",
    "client = pymongo.MongoClient(COSMOS_CONNECTION_STRING)\n",
    "DCEdb = client[DCE_DB_NAME]\n",
    "DCE_future_price_collection = DCEdb[DCE_FUTURE_PRICE_COLLECTION_NAME]"
   ]
  },
  {
   "cell_type": "code",
   "execution_count": 17,
   "metadata": {},
   "outputs": [
    {
     "name": "stdout",
     "output_type": "stream",
     "text": [
      "downloading date 2023-09-15\n"
     ]
    },
    {
     "name": "stderr",
     "output_type": "stream",
     "text": [
      "1257it [03:58,  5.26it/s]\n"
     ]
    },
    {
     "name": "stdout",
     "output_type": "stream",
     "text": [
      "downloading date 2023-09-18\n"
     ]
    },
    {
     "name": "stderr",
     "output_type": "stream",
     "text": [
      "1257it [05:13,  4.01it/s]\n"
     ]
    },
    {
     "name": "stdout",
     "output_type": "stream",
     "text": [
      "downloading date 2023-09-19\n"
     ]
    },
    {
     "name": "stderr",
     "output_type": "stream",
     "text": [
      "1257it [03:55,  5.33it/s]\n"
     ]
    },
    {
     "name": "stdout",
     "output_type": "stream",
     "text": [
      "downloading date 2023-09-20\n"
     ]
    },
    {
     "name": "stderr",
     "output_type": "stream",
     "text": [
      "1257it [03:54,  5.35it/s]\n"
     ]
    },
    {
     "name": "stdout",
     "output_type": "stream",
     "text": [
      "downloading date 2023-09-21\n"
     ]
    },
    {
     "name": "stderr",
     "output_type": "stream",
     "text": [
      "1257it [04:13,  4.95it/s]\n"
     ]
    },
    {
     "name": "stdout",
     "output_type": "stream",
     "text": [
      "downloading date 2023-09-22\n"
     ]
    },
    {
     "name": "stderr",
     "output_type": "stream",
     "text": [
      "1257it [05:16,  3.98it/s]\n"
     ]
    },
    {
     "name": "stdout",
     "output_type": "stream",
     "text": [
      "downloading date 2023-09-25\n"
     ]
    },
    {
     "name": "stderr",
     "output_type": "stream",
     "text": [
      "1257it [03:49,  5.47it/s]\n"
     ]
    },
    {
     "name": "stdout",
     "output_type": "stream",
     "text": [
      "downloading date 2023-09-26\n"
     ]
    },
    {
     "name": "stderr",
     "output_type": "stream",
     "text": [
      "1257it [04:56,  4.25it/s]\n"
     ]
    },
    {
     "name": "stdout",
     "output_type": "stream",
     "text": [
      "downloading date 2023-09-27\n"
     ]
    },
    {
     "name": "stderr",
     "output_type": "stream",
     "text": [
      "1257it [04:41,  4.46it/s]\n"
     ]
    },
    {
     "name": "stdout",
     "output_type": "stream",
     "text": [
      "downloading date 2023-09-28\n"
     ]
    },
    {
     "name": "stderr",
     "output_type": "stream",
     "text": [
      "1257it [06:20,  3.30it/s]\n"
     ]
    },
    {
     "name": "stdout",
     "output_type": "stream",
     "text": [
      "downloading date 2023-10-07\n"
     ]
    },
    {
     "name": "stderr",
     "output_type": "stream",
     "text": [
      "1257it [01:37, 12.87it/s]\n"
     ]
    },
    {
     "name": "stdout",
     "output_type": "stream",
     "text": [
      "downloading date 2023-10-08\n"
     ]
    },
    {
     "name": "stderr",
     "output_type": "stream",
     "text": [
      "1257it [01:53, 11.10it/s]\n"
     ]
    },
    {
     "name": "stdout",
     "output_type": "stream",
     "text": [
      "downloading date 2023-10-09\n"
     ]
    },
    {
     "name": "stderr",
     "output_type": "stream",
     "text": [
      "1257it [03:28,  6.03it/s]\n"
     ]
    },
    {
     "name": "stdout",
     "output_type": "stream",
     "text": [
      "downloading date 2023-10-10\n"
     ]
    },
    {
     "name": "stderr",
     "output_type": "stream",
     "text": [
      "1257it [03:04,  6.80it/s]\n"
     ]
    }
   ],
   "source": [
    "from itertools import chain\n",
    "for d in date:\n",
    "    print(f'downloading date {str(d)}')\n",
    "    csv_file = future_csv_path(str(d))\n",
    "    if file_exists(csv_file):\n",
    "        pass \n",
    "    else:\n",
    "        csv_file = make_csv_file(csv_file)\n",
    "\n",
    "    for i in tqdm.tqdm(chain(range(900,1499),range(1600,2258))):\n",
    "    # for i in range(2257,2258):\n",
    "        docs = DCE_future_price_collection.find(\n",
    "                                {\"$and\":[\n",
    "                                    {'date':str(d)},\n",
    "                                    {'clock':{\"$gte\":int(i*100),\"$lte\":int(i*100+100)}}]}\n",
    "                                ).sort(\"clock\", pymongo.ASCENDING)\n",
    "        docs_return = list(docs)\n",
    "        if len(docs_return) == 0:\n",
    "            continue\n",
    "        # print(list(docs))\n",
    "        to_insert_items = []\n",
    "        for c in docs_return:\n",
    "            to_insert_item = {}\n",
    "            to_insert_item['future_code'] = str(c['future_code'])\n",
    "            to_insert_item['market'] = str(c['market'])\n",
    "            to_insert_item['future_name'] = str(c['future_name'])\n",
    "            to_insert_item['clock'] = int(c['clock'])\n",
    "            to_insert_item['date'] = str(c['date'])\n",
    "            to_insert_item['open_price'] =float(c['open_price'] )\n",
    "            to_insert_item['max_price'] = float(c['max_price'])\n",
    "            to_insert_item['min_price'] = float(c['min_price'])\n",
    "            to_insert_item['close_price'] = float(c['close_price'])\n",
    "            to_insert_item['yesterday_price'] = float(c['yesterday_price'])\n",
    "            to_insert_item['buy_price'] = float(c['buy_price'])\n",
    "            to_insert_item['sell_price'] = float(c['sell_price'])\n",
    "            to_insert_item['newest_price'] = float(c['newest_price'])\n",
    "            to_insert_item['buy_amount'] = float(c['buy_amount'])\n",
    "            to_insert_item['sell_amount'] = float(c['sell_amount'])\n",
    "            to_insert_item['amount'] = float(c['amount'])\n",
    "            to_insert_item['volume'] = float(c['volume'])\n",
    "            to_insert_item['everage_price'] = float(c['everage_price'])\n",
    "            to_insert_items.append(to_insert_item)\n",
    "        keys = to_insert_items[0].keys()\n",
    "        \n",
    "        with open(csv_file, 'a', newline='',encoding=\"utf-8\") as output_file:\n",
    "            dict_writer = csv.DictWriter(output_file, keys)\n",
    "            dict_writer.writeheader()\n",
    "            dict_writer.writerows(to_insert_items)\n"
   ]
  },
  {
   "cell_type": "code",
   "execution_count": null,
   "metadata": {},
   "outputs": [],
   "source": []
  }
 ],
 "metadata": {
  "kernelspec": {
   "display_name": ".venv",
   "language": "python",
   "name": "python3"
  },
  "language_info": {
   "codemirror_mode": {
    "name": "ipython",
    "version": 3
   },
   "file_extension": ".py",
   "mimetype": "text/x-python",
   "name": "python",
   "nbconvert_exporter": "python",
   "pygments_lexer": "ipython3",
   "version": "3.8.10"
  }
 },
 "nbformat": 4,
 "nbformat_minor": 2
}
